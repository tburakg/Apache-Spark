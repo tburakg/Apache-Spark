{
 "cells": [
  {
   "cell_type": "code",
   "execution_count": 2,
   "id": "bf83d3a4-ddd2-4b97-ae0a-1e600226426c",
   "metadata": {},
   "outputs": [],
   "source": [
    "import findspark\n",
    "findspark.init()\n",
    "from pyspark.sql import SparkSession\n",
    "from pyspark.sql import functions as F\n",
    "from pyspark.ml.feature import StringIndexer, OneHotEncoderEstimator, VectorAssembler, StandardScaler\n",
    "from pyspark.ml.classification import LogisticRegression\n",
    "from pyspark.ml import Pipeline, PipelineModel"
   ]
  },
  {
   "cell_type": "code",
   "execution_count": 3,
   "id": "96891b61-a908-401f-85fb-b808e0d303fd",
   "metadata": {},
   "outputs": [],
   "source": [
    "\n",
    "spark = SparkSession.builder \\\n",
    ".appName(\"PipelineOps\") \\\n",
    ".master(\"local[2]\") \\\n",
    ".config(\"spark.executor.memory\",\"4g\") \\\n",
    ".config(\"spark.driver.memory\",\"2g\") \\\n",
    ".getOrCreate()"
   ]
  },
  {
   "cell_type": "code",
   "execution_count": 6,
   "id": "2d8b14d3-50f8-4506-b62e-a383172e4ae5",
   "metadata": {},
   "outputs": [],
   "source": [
    "df = spark.read \\\n",
    ".option(\"header\",\"True\") \\\n",
    ".option(\"inferSchema\",\"True\") \\\n",
    ".option(\"sep\",\",\") \\\n",
    ".csv(\"C:\\\\Users\\\\tbura\\\\data_sets\\\\simple_data_clear.csv\")"
   ]
  },
  {
   "cell_type": "code",
   "execution_count": 7,
   "id": "08314d11-9fff-4a77-879d-cfba02016e31",
   "metadata": {},
   "outputs": [
    {
     "data": {
      "text/html": [
       "<div>\n",
       "<style scoped>\n",
       "    .dataframe tbody tr th:only-of-type {\n",
       "        vertical-align: middle;\n",
       "    }\n",
       "\n",
       "    .dataframe tbody tr th {\n",
       "        vertical-align: top;\n",
       "    }\n",
       "\n",
       "    .dataframe thead th {\n",
       "        text-align: right;\n",
       "    }\n",
       "</style>\n",
       "<table border=\"1\" class=\"dataframe\">\n",
       "  <thead>\n",
       "    <tr style=\"text-align: right;\">\n",
       "      <th></th>\n",
       "      <th>sirano</th>\n",
       "      <th>isim</th>\n",
       "      <th>yas</th>\n",
       "      <th>meslek</th>\n",
       "      <th>sehir</th>\n",
       "      <th>aylik_gelir</th>\n",
       "    </tr>\n",
       "  </thead>\n",
       "  <tbody>\n",
       "    <tr>\n",
       "      <th>0</th>\n",
       "      <td>1</td>\n",
       "      <td>Cemal</td>\n",
       "      <td>35</td>\n",
       "      <td>Isci</td>\n",
       "      <td>Ankara</td>\n",
       "      <td>3500</td>\n",
       "    </tr>\n",
       "    <tr>\n",
       "      <th>1</th>\n",
       "      <td>2</td>\n",
       "      <td>Ceyda</td>\n",
       "      <td>42</td>\n",
       "      <td>Memur</td>\n",
       "      <td>Kayseri</td>\n",
       "      <td>4200</td>\n",
       "    </tr>\n",
       "    <tr>\n",
       "      <th>2</th>\n",
       "      <td>3</td>\n",
       "      <td>Timur</td>\n",
       "      <td>30</td>\n",
       "      <td>Müzisyen</td>\n",
       "      <td>Istanbul</td>\n",
       "      <td>9000</td>\n",
       "    </tr>\n",
       "    <tr>\n",
       "      <th>3</th>\n",
       "      <td>4</td>\n",
       "      <td>Burcu</td>\n",
       "      <td>29</td>\n",
       "      <td>Pazarlamaci</td>\n",
       "      <td>Ankara</td>\n",
       "      <td>4200</td>\n",
       "    </tr>\n",
       "    <tr>\n",
       "      <th>4</th>\n",
       "      <td>5</td>\n",
       "      <td>Yasemin</td>\n",
       "      <td>23</td>\n",
       "      <td>Pazarlamaci</td>\n",
       "      <td>Bursa</td>\n",
       "      <td>4800</td>\n",
       "    </tr>\n",
       "  </tbody>\n",
       "</table>\n",
       "</div>"
      ],
      "text/plain": [
       "   sirano     isim  yas       meslek     sehir  aylik_gelir\n",
       "0       1    Cemal   35         Isci    Ankara         3500\n",
       "1       2    Ceyda   42        Memur   Kayseri         4200\n",
       "2       3    Timur   30     Müzisyen  Istanbul         9000\n",
       "3       4    Burcu   29  Pazarlamaci    Ankara         4200\n",
       "4       5  Yasemin   23  Pazarlamaci     Bursa         4800"
      ]
     },
     "execution_count": 7,
     "metadata": {},
     "output_type": "execute_result"
    }
   ],
   "source": [
    "df.toPandas().head()"
   ]
  },
  {
   "cell_type": "markdown",
   "id": "8db698b5-1607-44e3-83e7-1a1be94466c0",
   "metadata": {},
   "source": [
    "## VERİ SETİNE ETİKET EKLEME"
   ]
  },
  {
   "cell_type": "code",
   "execution_count": 10,
   "id": "b4c067f0-3598-470d-b728-b40a07a318fe",
   "metadata": {},
   "outputs": [],
   "source": [
    "df1 = df.withColumn(\"ekonomik_durum\",\n",
    "    F.when(F.col(\"aylik_gelir\") > 7000, \"iyi\").otherwise(\"kötü\")\n",
    ")"
   ]
  },
  {
   "cell_type": "markdown",
   "id": "a59c98ec-2c98-43e7-9e25-3c4d6e0f3af8",
   "metadata": {},
   "source": [
    "## VERİ SETİNİ TRAIN-TEST AYIRMA"
   ]
  },
  {
   "cell_type": "code",
   "execution_count": 9,
   "id": "f5e882b5-d4d2-4e27-a3c7-7b01e6d03d19",
   "metadata": {},
   "outputs": [],
   "source": [
    "train_df, test_df = df1.randomSplit([0.8, 0.2], seed=142)"
   ]
  },
  {
   "cell_type": "markdown",
   "id": "95fc52c8-85be-439f-9aff-0b6384660e9a",
   "metadata": {},
   "source": [
    "## Pipeline için nesneleri oluşturma"
   ]
  },
  {
   "cell_type": "code",
   "execution_count": 12,
   "id": "79010690-1ff8-46e5-ac98-ecba07cfdae8",
   "metadata": {},
   "outputs": [],
   "source": [
    "meslek_indexer = StringIndexer() \\\n",
    ".setInputCol(\"meslek\") \\\n",
    ".setOutputCol(\"meslek_index\") \\\n",
    ".setHandleInvalid(\"skip\")"
   ]
  },
  {
   "cell_type": "code",
   "execution_count": 13,
   "id": "6f7f4403-974a-4eb5-b797-b500f6524b38",
   "metadata": {},
   "outputs": [],
   "source": [
    "sehir_indexer = StringIndexer() \\\n",
    ".setInputCol(\"sehir\") \\\n",
    ".setOutputCol(\"sehir_index\") \\\n",
    ".setHandleInvalid(\"skip\")"
   ]
  },
  {
   "cell_type": "code",
   "execution_count": 14,
   "id": "56c6e8ee-f7f1-4481-aa5c-1099d210bd10",
   "metadata": {},
   "outputs": [],
   "source": [
    "encoder = OneHotEncoderEstimator() \\\n",
    ".setInputCols([\"meslek_index\",\"sehir_index\"]) \\\n",
    ".setOutputCols([\"meslek_encoded\",\"sehir_encoded\"])"
   ]
  },
  {
   "cell_type": "code",
   "execution_count": 15,
   "id": "0f4ba664-5902-4d73-a82e-f985e5785991",
   "metadata": {},
   "outputs": [],
   "source": [
    "assembler = VectorAssembler() \\\n",
    ".setInputCols([\"yas\",\"aylik_gelir\",\"meslek_encoded\",\"sehir_encoded\"]) \\\n",
    ".setOutputCol(\"vectorized_features\")"
   ]
  },
  {
   "cell_type": "code",
   "execution_count": 16,
   "id": "409e3aca-c2c8-47bc-9cfb-06fbcdbbecdd",
   "metadata": {},
   "outputs": [],
   "source": [
    "label_indexer = StringIndexer() \\\n",
    ".setInputCol(\"ekonomik_durum\") \\\n",
    ".setOutputCol(\"label\")"
   ]
  },
  {
   "cell_type": "code",
   "execution_count": 17,
   "id": "74a7ea96-cbf2-4c05-b2dc-04d1e0d75c83",
   "metadata": {},
   "outputs": [],
   "source": [
    "\n",
    "scaler = StandardScaler() \\\n",
    ".setInputCol(\"vectorized_features\") \\\n",
    ".setOutputCol(\"features\")"
   ]
  },
  {
   "cell_type": "code",
   "execution_count": 18,
   "id": "60c1b730-eeb2-4dcd-89b1-28e90a1d5ca0",
   "metadata": {},
   "outputs": [],
   "source": [
    "lr_object = LogisticRegression() \\\n",
    ".setFeaturesCol(\"features\") \\\n",
    ".setLabelCol(\"label\") \\\n",
    ".setPredictionCol(\"prediction\")"
   ]
  },
  {
   "cell_type": "markdown",
   "id": "50f83fa3-6380-40cc-8709-35acd63f4bfc",
   "metadata": {},
   "source": [
    "## Pipeline"
   ]
  },
  {
   "cell_type": "code",
   "execution_count": 19,
   "id": "3299a2f4-789a-4326-a65d-bd993ca9ff43",
   "metadata": {},
   "outputs": [],
   "source": [
    "pipeline_nesnesi = Pipeline() \\\n",
    ".setStages([meslek_indexer,sehir_indexer,encoder,assembler,label_indexer,scaler,lr_object])"
   ]
  },
  {
   "cell_type": "code",
   "execution_count": 20,
   "id": "76f8e5e5-de4f-42d7-9e2f-70398d61b12c",
   "metadata": {},
   "outputs": [],
   "source": [
    "pipeline_modeli = pipeline_nesnesi.fit(train_df)"
   ]
  },
  {
   "cell_type": "code",
   "execution_count": 21,
   "id": "ff0ab0aa-64b6-42b3-b264-f3d5b3b380a5",
   "metadata": {},
   "outputs": [
    {
     "data": {
      "text/html": [
       "<div>\n",
       "<style scoped>\n",
       "    .dataframe tbody tr th:only-of-type {\n",
       "        vertical-align: middle;\n",
       "    }\n",
       "\n",
       "    .dataframe tbody tr th {\n",
       "        vertical-align: top;\n",
       "    }\n",
       "\n",
       "    .dataframe thead th {\n",
       "        text-align: right;\n",
       "    }\n",
       "</style>\n",
       "<table border=\"1\" class=\"dataframe\">\n",
       "  <thead>\n",
       "    <tr style=\"text-align: right;\">\n",
       "      <th></th>\n",
       "      <th>label</th>\n",
       "      <th>prediction</th>\n",
       "    </tr>\n",
       "  </thead>\n",
       "  <tbody>\n",
       "    <tr>\n",
       "      <th>0</th>\n",
       "      <td>1.0</td>\n",
       "      <td>1.0</td>\n",
       "    </tr>\n",
       "    <tr>\n",
       "      <th>1</th>\n",
       "      <td>0.0</td>\n",
       "      <td>0.0</td>\n",
       "    </tr>\n",
       "    <tr>\n",
       "      <th>2</th>\n",
       "      <td>1.0</td>\n",
       "      <td>1.0</td>\n",
       "    </tr>\n",
       "  </tbody>\n",
       "</table>\n",
       "</div>"
      ],
      "text/plain": [
       "   label  prediction\n",
       "0    1.0         1.0\n",
       "1    0.0         0.0\n",
       "2    1.0         1.0"
      ]
     },
     "execution_count": 21,
     "metadata": {},
     "output_type": "execute_result"
    }
   ],
   "source": [
    "pipeline_modeli.transform(test_df).select(\"label\",\"prediction\").toPandas().head()"
   ]
  },
  {
   "cell_type": "code",
   "execution_count": null,
   "id": "18826d59-1ea8-4421-9a9c-a6a6ddd66b19",
   "metadata": {},
   "outputs": [],
   "source": []
  }
 ],
 "metadata": {
  "kernelspec": {
   "display_name": "Python 3",
   "language": "python",
   "name": "python3"
  },
  "language_info": {
   "codemirror_mode": {
    "name": "ipython",
    "version": 3
   },
   "file_extension": ".py",
   "mimetype": "text/x-python",
   "name": "python",
   "nbconvert_exporter": "python",
   "pygments_lexer": "ipython3",
   "version": "3.6.8"
  }
 },
 "nbformat": 4,
 "nbformat_minor": 5
}
